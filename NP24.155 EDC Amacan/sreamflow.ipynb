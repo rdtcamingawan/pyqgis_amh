{
 "cells": [
  {
   "cell_type": "code",
   "execution_count": 54,
   "metadata": {},
   "outputs": [],
   "source": [
    "import pandas as pd\n",
    "import re"
   ]
  },
  {
   "cell_type": "code",
   "execution_count": 83,
   "metadata": {},
   "outputs": [],
   "source": [
    "# Read EDC Streamflow File4\n",
    "file_path = r\"D:\\AMH Philippines, Inc\\EDC Projects - 20 NP24.XXX Amacan Water Balance HH\\06 WORK FILES\\08 HH-Calcs\\Streamflow Measurements.xlsx\"\n",
    "\n",
    "# Convert to DataFrame\n",
    "df = pd.read_excel(file_path, skiprows=3)"
   ]
  },
  {
   "cell_type": "code",
   "execution_count": 86,
   "metadata": {},
   "outputs": [],
   "source": [
    "def remove_n(lat):\n",
    "    if isinstance(lat, str):\n",
    "        re.sub(r\"N: | N\", \"\", lat)\n",
    "    else:\n",
    "        lat"
   ]
  },
  {
   "cell_type": "code",
   "execution_count": 92,
   "metadata": {},
   "outputs": [
    {
     "data": {
      "text/plain": [
       "0    N: 7.37345\n",
       "1    N: 7.37345\n",
       "Name: latitude, dtype: object"
      ]
     },
     "execution_count": 92,
     "metadata": {},
     "output_type": "execute_result"
    }
   ],
   "source": [
    "x = df['latitude'].apply(remove_n)\n",
    "df['latitude'].head(2)"
   ]
  }
 ],
 "metadata": {
  "kernelspec": {
   "display_name": "pcraster",
   "language": "python",
   "name": "python3"
  },
  "language_info": {
   "codemirror_mode": {
    "name": "ipython",
    "version": 3
   },
   "file_extension": ".py",
   "mimetype": "text/x-python",
   "name": "python",
   "nbconvert_exporter": "python",
   "pygments_lexer": "ipython3",
   "version": "3.11.10"
  }
 },
 "nbformat": 4,
 "nbformat_minor": 2
}
