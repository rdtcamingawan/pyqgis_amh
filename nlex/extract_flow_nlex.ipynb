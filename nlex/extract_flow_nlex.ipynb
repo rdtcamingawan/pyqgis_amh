{
 "cells": [
  {
   "cell_type": "code",
   "execution_count": 4,
   "id": "21d63dad",
   "metadata": {},
   "outputs": [],
   "source": [
    "import os\n",
    "import h5py\n",
    "import pandas as pd\n",
    "import numpy as np\n",
    "\n",
    "from glob import glob"
   ]
  },
  {
   "cell_type": "code",
   "execution_count": 28,
   "id": "5189b764",
   "metadata": {},
   "outputs": [],
   "source": [
    "# Input list of RAS Folders\n",
    "\n",
    "# Add as many folders as needed\n",
    "ras_folder_list = [\n",
    "    r\"C:\\Users\\richmond\\AMH Philippines, Inc\\PP23.307 Rockwell and Roll - My Documents\\Python\\amh_pyqgis\\flow_extraction\\Sipit_RAS\\Plans\",\n",
    "    r\"C:\\Users\\richmond\\AMH Philippines, Inc\\PP23.307 Rockwell and Roll - My Documents\\Python\\amh_pyqgis\\flow_extraction\\lagnas_RAS\"\n",
    "]"
   ]
  },
  {
   "cell_type": "code",
   "execution_count": null,
   "id": "0f4b90bb",
   "metadata": {},
   "outputs": [],
   "source": [
    "class NlexFlows:\n",
    "    def __init__(self, folder_list) -> None:\n",
    "        self.ras_folder_list = folder_list\n",
    "        self.plan_files = self.get_plan_files()\n",
    "        self.plan_files = self.remove_hdfs()\n",
    "\n",
    "\n",
    "    def get_plan_files(self):\n",
    "        # Iterate over each RAS Folder and get all .p**.hdf files\n",
    "        plan_files = []\n",
    "        # This gives a list of all plan files in the selected RAS Folder\n",
    "        plan_files = [\n",
    "            file_path\n",
    "            for folder in self.ras_folder_list\n",
    "            for file_path in glob(os.path.join(folder, \"*.p*.hdf\"), recursive=True)\n",
    "        ]\n",
    "        return plan_files\n",
    "    \n",
    "    # Removes found HDF files which does not\n",
    "    # contain any /Reference Lines path in it\n",
    "    def remove_hdfs(self):\n",
    "        for plan in self.plan_files:\n",
    "            with h5py.File(plan, 'r') as file:\n",
    "                ref_line_path = '/Geometry/Reference Lines/Attributes'\n",
    "                if ref_line_path not in file:\n",
    "                    self.plan_files.remove(plan)\n",
    "        \n",
    "        return self.plan_files\n",
    "    \n",
    "    # Get all unique flow scenarios\n",
    "    # in the filtered plan files\n",
    "    def get_flow_scenarios(self):\n",
    "        for plan in self.plan_files:\n",
    "            with h5py.File(plan, 'r') as file:\n",
    "                plan_info = file['/Plan Data/Plan Information']\n",
    "                \n",
    "\n"
   ]
  },
  {
   "cell_type": "code",
   "execution_count": 81,
   "id": "0a8a9953",
   "metadata": {},
   "outputs": [
    {
     "data": {
      "text/plain": [
       "['C:\\\\Users\\\\richmond\\\\AMH Philippines, Inc\\\\PP23.307 Rockwell and Roll - My Documents\\\\Python\\\\amh_pyqgis\\\\flow_extraction\\\\Sipit_RAS\\\\Plans\\\\ProjectSipit.p21.hdf',\n",
       " 'C:\\\\Users\\\\richmond\\\\AMH Philippines, Inc\\\\PP23.307 Rockwell and Roll - My Documents\\\\Python\\\\amh_pyqgis\\\\flow_extraction\\\\Sipit_RAS\\\\Plans\\\\ProjectSipit.p22(1).hdf',\n",
       " 'C:\\\\Users\\\\richmond\\\\AMH Philippines, Inc\\\\PP23.307 Rockwell and Roll - My Documents\\\\Python\\\\amh_pyqgis\\\\flow_extraction\\\\Sipit_RAS\\\\Plans\\\\ProjectSipit.p23(1).hdf',\n",
       " 'C:\\\\Users\\\\richmond\\\\AMH Philippines, Inc\\\\PP23.307 Rockwell and Roll - My Documents\\\\Python\\\\amh_pyqgis\\\\flow_extraction\\\\Sipit_RAS\\\\Plans\\\\ProjectSipit.p24(1).hdf',\n",
       " 'C:\\\\Users\\\\richmond\\\\AMH Philippines, Inc\\\\PP23.307 Rockwell and Roll - My Documents\\\\Python\\\\amh_pyqgis\\\\flow_extraction\\\\Sipit_RAS\\\\Plans\\\\ProjectSipit.p25(1).hdf',\n",
       " 'C:\\\\Users\\\\richmond\\\\AMH Philippines, Inc\\\\PP23.307 Rockwell and Roll - My Documents\\\\Python\\\\amh_pyqgis\\\\flow_extraction\\\\Sipit_RAS\\\\Plans\\\\ProjectSipit.p26(1).hdf',\n",
       " 'C:\\\\Users\\\\richmond\\\\AMH Philippines, Inc\\\\PP23.307 Rockwell and Roll - My Documents\\\\Python\\\\amh_pyqgis\\\\flow_extraction\\\\Sipit_RAS\\\\Plans\\\\ProjectSipit.p27(1).hdf',\n",
       " 'C:\\\\Users\\\\richmond\\\\AMH Philippines, Inc\\\\PP23.307 Rockwell and Roll - My Documents\\\\Python\\\\amh_pyqgis\\\\flow_extraction\\\\Sipit_RAS\\\\Plans\\\\ProjectSipit.p28(1).hdf',\n",
       " 'C:\\\\Users\\\\richmond\\\\AMH Philippines, Inc\\\\PP23.307 Rockwell and Roll - My Documents\\\\Python\\\\amh_pyqgis\\\\flow_extraction\\\\lagnas_RAS\\\\lagnas.p01.hdf',\n",
       " 'C:\\\\Users\\\\richmond\\\\AMH Philippines, Inc\\\\PP23.307 Rockwell and Roll - My Documents\\\\Python\\\\amh_pyqgis\\\\flow_extraction\\\\lagnas_RAS\\\\lagnas.p02.hdf',\n",
       " 'C:\\\\Users\\\\richmond\\\\AMH Philippines, Inc\\\\PP23.307 Rockwell and Roll - My Documents\\\\Python\\\\amh_pyqgis\\\\flow_extraction\\\\lagnas_RAS\\\\lagnas.p03.hdf',\n",
       " 'C:\\\\Users\\\\richmond\\\\AMH Philippines, Inc\\\\PP23.307 Rockwell and Roll - My Documents\\\\Python\\\\amh_pyqgis\\\\flow_extraction\\\\lagnas_RAS\\\\lagnas.p04.hdf',\n",
       " 'C:\\\\Users\\\\richmond\\\\AMH Philippines, Inc\\\\PP23.307 Rockwell and Roll - My Documents\\\\Python\\\\amh_pyqgis\\\\flow_extraction\\\\lagnas_RAS\\\\lagnas.p04.tmp.hdf',\n",
       " 'C:\\\\Users\\\\richmond\\\\AMH Philippines, Inc\\\\PP23.307 Rockwell and Roll - My Documents\\\\Python\\\\amh_pyqgis\\\\flow_extraction\\\\lagnas_RAS\\\\lagnas.p05.hdf']"
      ]
     },
     "execution_count": 81,
     "metadata": {},
     "output_type": "execute_result"
    }
   ],
   "source": [
    "x = NlexFlows(folder_list=ras_folder_list)\n",
    "x.plan_files\n",
    "# y = x.plan_files\n",
    "# for plan in y:\n",
    "#     with h5py.File(plan, 'r') as file:\n",
    "#         ref_line_path = '/Geometry/Reference Lines/Attributes'\n",
    "#         if ref_line_path not in file:\n",
    "#             y.remove(plan)\n",
    "\n",
    "# y"
   ]
  }
 ],
 "metadata": {
  "kernelspec": {
   "display_name": "hh2_env",
   "language": "python",
   "name": "python3"
  },
  "language_info": {
   "codemirror_mode": {
    "name": "ipython",
    "version": 3
   },
   "file_extension": ".py",
   "mimetype": "text/x-python",
   "name": "python",
   "nbconvert_exporter": "python",
   "pygments_lexer": "ipython3",
   "version": "3.12.9"
  }
 },
 "nbformat": 4,
 "nbformat_minor": 5
}
