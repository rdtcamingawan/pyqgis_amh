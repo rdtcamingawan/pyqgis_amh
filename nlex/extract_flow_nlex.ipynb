{
 "cells": [
  {
   "cell_type": "code",
   "execution_count": 80,
   "id": "21d63dad",
   "metadata": {},
   "outputs": [],
   "source": [
    "import os\n",
    "import h5py\n",
    "import pandas as pd\n",
    "import numpy as np\n",
    "\n",
    "from glob import glob"
   ]
  },
  {
   "cell_type": "code",
   "execution_count": null,
   "id": "5189b764",
   "metadata": {},
   "outputs": [],
   "source": [
    "# Input list of RAS Folders\n",
    "\n",
    "# Add as many folders as needed\n",
    "ras_folder_list = []\n",
    "\n",
    "# Give a save file name\n",
    "save_file = "
   ]
  },
  {
   "cell_type": "code",
   "execution_count": null,
   "id": "0f4b90bb",
   "metadata": {},
   "outputs": [],
   "source": [
    "class FlowExtraction:\n",
    "    def __init__(self, folder_list, save_file) -> None:\n",
    "        self.ras_folder_list = folder_list\n",
    "        self.save_file = save_file\n",
    "\n",
    "        self.plan_files = self.get_plan_files()\n",
    "        self.plan_files = self.remove_hdfs()\n",
    "        self.flow_list = self.hdf_attrb()[0]\n",
    "        self.ref_line_names = self.hdf_attrb()[1]\n",
    "        self.flow_extract()\n",
    "\n",
    "    def get_plan_files(self):\n",
    "        # Iterate over each RAS Folder and get all .p**.hdf files\n",
    "        plan_files = []\n",
    "        # This gives a list of all plan files in the selected RAS Folder\n",
    "        plan_files = [\n",
    "            file_path\n",
    "            for folder in self.ras_folder_list\n",
    "            for file_path in glob(os.path.join(folder, \"*.p*.hdf\"), recursive=True)\n",
    "        ]\n",
    "        return plan_files\n",
    "    \n",
    "    # Removes found HDF files which does not\n",
    "    # contain any /Reference Lines path in it\n",
    "    def remove_hdfs(self):\n",
    "        \"\"\"\n",
    "        This function do the following:\n",
    "\n",
    "        1. Read the HDF and removes all HDF files not containing a Reference Line node in it. \n",
    "        2. Updates the plan_files list only retains HDF files with Reference Lines\n",
    "        \n",
    "        \"\"\"\n",
    "        for plan in self.plan_files:\n",
    "            with h5py.File(plan, 'r') as file:\n",
    "                ref_line_path = '/Geometry/Reference Lines/Attributes'\n",
    "                if ref_line_path not in file:\n",
    "                    self.plan_files.remove(plan)\n",
    "        \n",
    "        return self.plan_files\n",
    "\n",
    "    def hdf_attrb(self):\n",
    "        \"\"\"\n",
    "        This function do the following:\n",
    "\n",
    "        1. Reads the filtered HDF files\n",
    "        2. Reads the Flow Title node and appends it, if it does not exist, in flow_list\n",
    "        3. Reads the Reference Line Name node and appends unique values in the ref_list\n",
    "        \"\"\"\n",
    "        flow_list = []\n",
    "        for plan in self.plan_files:\n",
    "            with h5py.File(plan, 'r') as file:\n",
    "                plan_info = file['/Plan Data/Plan Information']\n",
    "                ref_line_path = file['/Geometry/Reference Lines/Attributes']\n",
    "\n",
    "                # Build a list of Flow Title\n",
    "                flow_name = plan_info.attrs['Flow Title'].decode('utf-8')\n",
    "                if flow_name not in flow_list:\n",
    "                    flow_list.append(flow_name)\n",
    "                \n",
    "                # Build a list of Reference Line names\n",
    "                ref_line_names = np.array(ref_line_path)\n",
    "                ref_line_names = [x[0].decode('utf-8') for x in ref_line_names]\n",
    "                ref_line_names = list(set(ref_line_names))\n",
    "\n",
    "            \n",
    "        return flow_list, ref_line_names\n",
    "    \n",
    "    def flow_extract(self):\n",
    "        \"\"\"\n",
    "        This function \n",
    "        1. Extracts flow in each filtered HDF. \n",
    "        2. Creates an Excel file each sheet name corresponds to the Flow Title.\n",
    "        3. Skips an HDF file if its error. \n",
    "        \"\"\"\n",
    "        hdf_error_list = []\n",
    "        for plan in self.plan_files:\n",
    "            try:\n",
    "                    with h5py.File(plan, 'r') as file:\n",
    "                            timestamp = [x.decode() for x in np.array(file['/Results/Unsteady/Output/Output Blocks/DSS Hydrograph Output/Unsteady Time Series/Time Date Stamp'])]\n",
    "                            ts = np.abs(file[\n",
    "                                    '/Results/Unsteady/Output/Output Blocks/'\n",
    "                                    'DSS Hydrograph Output/Unsteady Time Series/Reference Lines/Flow'\n",
    "                                    ])\n",
    "                            \n",
    "                            # Reference Line Names\n",
    "                            ref_line_path = file['/Geometry/Reference Lines/Attributes']\n",
    "                            ref_line_names = np.array(ref_line_path)\n",
    "                            ref_line_names = [x[0].decode('utf-8') for x in ref_line_names]\n",
    "\n",
    "                            # Flow Title\n",
    "                            plan_info = file['/Plan Data/Plan Information']\n",
    "                            flow_name = plan_info.attrs['Flow Title'].decode('utf-8')\n",
    "\n",
    "                            df = pd.DataFrame(ts, index=timestamp, columns=ref_line_names)\n",
    "                            df.index = pd.to_datetime(df.index, \n",
    "                                                    format='%d%b%Y %H:%M:%S'\n",
    "                                                    )\n",
    "                            if not os.path.exists(self.save_file):\n",
    "                                    df.to_excel(save_file, sheet_name=flow_name)\n",
    "                                    \n",
    "                            else:\n",
    "                                    with pd.ExcelWriter(self.save_file,\n",
    "                                                            mode='a',\n",
    "                                                            engine= 'openpyxl',\n",
    "                                                            if_sheet_exists='replace') as writer:\n",
    "                                            df.to_excel(writer, sheet_name=flow_name)\n",
    "            except Exception:\n",
    "                    print(f'Skipping {os.path.basename(plan)} due to error.')\n",
    "                    continue\n",
    "\n"
   ]
  },
  {
   "cell_type": "code",
   "execution_count": null,
   "id": "0a8a9953",
   "metadata": {},
   "outputs": [
    {
     "name": "stdout",
     "output_type": "stream",
     "text": [
      "Skipping lagnas.p04.hdf due to error.\n"
     ]
    },
    {
     "data": {
      "text/plain": [
       "<__main__.NlexFlows at 0x1ff401d2990>"
      ]
     },
     "execution_count": 120,
     "metadata": {},
     "output_type": "execute_result"
    }
   ],
   "source": [
    "FlowExtraction(folder_list=ras_folder_list,save_file=save_file)"
   ]
  }
 ],
 "metadata": {
  "kernelspec": {
   "display_name": "pcraster",
   "language": "python",
   "name": "python3"
  },
  "language_info": {
   "codemirror_mode": {
    "name": "ipython",
    "version": 3
   },
   "file_extension": ".py",
   "mimetype": "text/x-python",
   "name": "python",
   "nbconvert_exporter": "python",
   "pygments_lexer": "ipython3",
   "version": "3.11.9"
  }
 },
 "nbformat": 4,
 "nbformat_minor": 5
}
