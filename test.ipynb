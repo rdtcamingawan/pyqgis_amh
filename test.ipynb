{
 "cells": [
  {
   "cell_type": "code",
   "execution_count": 1,
   "metadata": {},
   "outputs": [],
   "source": [
    "import h5py"
   ]
  },
  {
   "cell_type": "code",
   "execution_count": 5,
   "metadata": {},
   "outputs": [
    {
     "data": {
      "text/plain": [
       "'29Nov2024 05:00:00'"
      ]
     },
     "execution_count": 5,
     "metadata": {},
     "output_type": "execute_result"
    }
   ],
   "source": [
    "url = r'D:\\AMH Philippines, Inc\\PP23.307 Rockwell and Roll - Richmond\\My Documents\\Python\\amh_pyqgis\\flow_extraction\\Sipit_RAS\\Plans\\ProjectSipit.p23.hdf'\n",
    "\n",
    "with h5py.File(url, 'r') as f:\n",
    "    sim_end_time = f['/Plan Data/Plan Information'].attrs['Simulation End Time'].decode('utf-8')\n",
    "\n",
    "sim_end_time"
   ]
  }
 ],
 "metadata": {
  "kernelspec": {
   "display_name": "pcraster",
   "language": "python",
   "name": "python3"
  },
  "language_info": {
   "codemirror_mode": {
    "name": "ipython",
    "version": 3
   },
   "file_extension": ".py",
   "mimetype": "text/x-python",
   "name": "python",
   "nbconvert_exporter": "python",
   "pygments_lexer": "ipython3",
   "version": "3.11.9"
  }
 },
 "nbformat": 4,
 "nbformat_minor": 2
}
