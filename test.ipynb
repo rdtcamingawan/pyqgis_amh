{
 "cells": [
  {
   "cell_type": "code",
   "execution_count": 20,
   "metadata": {},
   "outputs": [],
   "source": [
    "import geopandas as gpd\n",
    "import numpy as np\n",
    "import shapely\n",
    "import rasterio\n",
    "from shapely.geometry import Point, MultiPoint\n",
    "from matplotlib import pyplot as plt\n",
    "\n",
    "from rasterio.plot import show\n",
    "\n",
    "import warnings\n",
    "warnings.filterwarnings('ignore', 'GeoSeries.notna', UserWarning)\n",
    "\n",
    "# testing for branches"
   ]
  },
  {
   "cell_type": "code",
   "execution_count": 6,
   "metadata": {},
   "outputs": [],
   "source": [
    "# # Define file paths\n",
    "# sipit_centerline_path = r'D:/AMH Philippines, Inc/PP23.307 Rockwell and Roll - General/06 NP23.000 WORK FILES/Richmond/My Documents/Python/amh_pyqgis/flow_extraction/Sipit_RAS/GIS/merged_cl.shp'\n",
    "# baranca_ref_line_shp_path = r\"D:\\AMH Philippines, Inc\\PP23.307 Rockwell and Roll - General\\06 NP23.000 WORK FILES\\Richmond\\My Documents\\Python\\amh_pyqgis\\flow_extraction\\Sipit_RAS\\GIS\\Reference Lines\\baranca.shp\"\n",
    "\n",
    "# terrain_path = r\"D:\\AMH Philippines, Inc\\PP23.307 Rockwell and Roll - General\\06 NP23.000 WORK FILES\\Richmond\\My Documents\\Python\\amh_pyqgis\\flow_extraction\\Sipit_RAS\\Terrain\\Terrain.Client Topo.tif\"\n",
    "\n",
    "# Define File Paths for my PC\n",
    "sipit_centerline_path = r\"C:\\Users\\richmond\\AMH Philippines, Inc\\PP23.307 Rockwell and Roll - My Documents\\Python\\amh_pyqgis\\flow_extraction\\Sipit_RAS\\GIS\\merged_cl.shp\"\n",
    "baranca_ref_line_shp_path = r\"C:\\Users\\richmond\\AMH Philippines, Inc\\PP23.307 Rockwell and Roll - My Documents\\Python\\amh_pyqgis\\flow_extraction\\Sipit_RAS\\GIS\\Reference Lines\\ref_lines.shp\"\n",
    "terrain_path = r\"C:\\Users\\richmond\\AMH Philippines, Inc\\PP23.307 Rockwell and Roll - My Documents\\Python\\amh_pyqgis\\flow_extraction\\Sipit_RAS\\Terrain\\Terrain.Client Topo.tif\""
   ]
  },
  {
   "cell_type": "code",
   "execution_count": null,
   "metadata": {},
   "outputs": [
    {
     "name": "stdout",
     "output_type": "stream",
     "text": [
      "C2 - Sta 0+000: 2 intersection points\n"
     ]
    },
    {
     "ename": "AttributeError",
     "evalue": "'LineString' object has no attribute 'plot'",
     "output_type": "error",
     "traceback": [
      "\u001b[31m---------------------------------------------------------------------------\u001b[39m",
      "\u001b[31mAttributeError\u001b[39m                            Traceback (most recent call last)",
      "\u001b[36mCell\u001b[39m\u001b[36m \u001b[39m\u001b[32mIn[28]\u001b[39m\u001b[32m, line 43\u001b[39m\n\u001b[32m     41\u001b[39m         total_pts += \u001b[32m1\u001b[39m\n\u001b[32m     42\u001b[39m     \u001b[38;5;28;01melif\u001b[39;00m geom.geom_type == \u001b[33m'\u001b[39m\u001b[33mMultiPoint\u001b[39m\u001b[33m'\u001b[39m:\n\u001b[32m---> \u001b[39m\u001b[32m43\u001b[39m         \u001b[43mrow\u001b[49m\u001b[43m.\u001b[49m\u001b[43mgeometry\u001b[49m\u001b[43m.\u001b[49m\u001b[43mplot\u001b[49m(ax=ax)\n\u001b[32m     44\u001b[39m         total_pts += \u001b[38;5;28mlen\u001b[39m(geom.geoms)\n\u001b[32m     46\u001b[39m \u001b[38;5;66;03m# 4) only print when there’s more than one intersection\u001b[39;00m\n",
      "\u001b[31mAttributeError\u001b[39m: 'LineString' object has no attribute 'plot'"
     ]
    },
    {
     "data": {
      "image/png": "[encoded data removed]",
      "text/plain": [
       "<Figure size 640x480 with 1 Axes>"
      ]
     },
     "metadata": {},
     "output_type": "display_data"
    }
   ],
   "source": [
    "fig, ax = plt.subplots()\n",
    "gdf_sipit = gpd.read_file(sipit_centerline_path).to_crs('EPSG:3123')\n",
    "gdf_sipit.plot(ax=ax)\n",
    "\n",
    "gdf_baranca_ref_line = gpd.read_file(baranca_ref_line_shp_path).to_crs('EPSG:3123')\n",
    "# gdf_baranca_ref_line.plot(ax=ax)\n",
    "\n",
    "# with rasterio.open(terrain_path) as src:\n",
    "#     # transform rasterio plot\n",
    "#     extent = [src.bounds[0], src.bounds[1], src.bounds[2], src.bounds[3]]\n",
    "#     ax = rasterio.plot.show(src, extent=extent, ax=ax, cmap='pink')\n",
    "\n",
    "#     i=0\n",
    "#     for i in range(0,len(gdf_baranca_ref_line)):\n",
    "#         ref_line = gdf_baranca_ref_line.iloc[i].geometry\n",
    "#         point = shapely.intersection(ref_line, gdf_sipit.geometry)\n",
    "#         valid_points = point[point.notna() & ~point.is_empty & (point.geom_type == 'Point')]\n",
    "#         valid_points.plot(ax=ax, color='black')\n",
    "\n",
    "#         x_coor = valid_points.x\n",
    "#         y_coor = valid_points.y\n",
    "#         coord_list = [(x_coor, y_coor)]\n",
    "#         sampled_raster = np.array([arr[0] for arr in src.sample(coord_list)])\n",
    "#         print(sampled_raster)\n",
    "\n",
    "i == 0\n",
    "for i in range(len(gdf_baranca_ref_line)):\n",
    "    row      = gdf_baranca_ref_line.iloc[i]\n",
    "    ref_line = row.geometry\n",
    "    name     = row['Name']\n",
    "\n",
    "    # 1) intersect each Sipit feature against this ref_line…\n",
    "    hits = gdf_sipit.geometry.intersection(ref_line)\n",
    "    # 2) drop None and empty geometries\n",
    "    valid = hits[hits.notna() & ~hits.is_empty]\n",
    "\n",
    "    # 3) tally up all the actual points\n",
    "    total_pts = 0\n",
    "    for geom in valid:\n",
    "        if geom.geom_type == 'Point':\n",
    "            total_pts += 1\n",
    "        elif geom.geom_type == 'MultiPoint':\n",
    "            total_pts += len(geom.geoms)\n",
    "\n",
    "    # 4) only print when there’s more than one intersection\n",
    "    if total_pts > 1:\n",
    "        print(f\"{name}: {total_pts} intersection points\")\n",
    "\n",
    "\n",
    "\n",
    "    # valid_points.plot(ax=ax, color='black')\n"
   ]
  },
  {
   "cell_type": "code",
   "execution_count": null,
   "metadata": {},
   "outputs": [],
   "source": [
    "centerline_shp\n",
    "epsg_crs\n",
    "ref_line_shp_path\n",
    "raster_path\n",
    "\n",
    "class ras_flow_extract():\n",
    "    def sample_raster_points(self):\n",
    "        # Read the Merged River Centerline SHP File\n",
    "        gdf_centerline = gpd.read_file(centerline_shp_path).to_crs(epsg_crs)\n",
    "\n",
    "        # Read the Reference  Line SHP File\n",
    "        gdf_ref_line = gpd.read_file(ref_line_shp_path).to_crs(epsg_crs)\n",
    "\n",
    "        # Read the raster\n",
    "        with rasterio.open(raster_path) as src:\n",
    "            # Raster must be the same CRS as the SHP Files\n",
    "            # ---- Intersect each reference line ----\n",
    "            # For each point of intersection, sample raster values at that point\n",
    "\n",
    "            i = 0\n",
    "            for i in range(0, len(gdf_ref_line)):\n",
    "                ref_line = gdf_ref_line.iloc[i].geometry # Get only the geometry attribute of a given ref_line\n",
    "                \"\"\"\n",
    "\n",
    "                Intersect the ref_line to the merged centerline_shp.\n",
    "                If no intersection is found the code will ignore null or empty row results\n",
    "\n",
    "                \"\"\"\n",
    "                # Intersect\n",
    "                point = shapely.intersection(ref_line, gdf_centerline) \n",
    "                # Filter for valid points only\n",
    "                valid_point = point[point.notna() & ~point.is_empty & (point.geom_type == 'Point')]\n",
    "\n",
    "                # Get the coordinates of the point\n",
    "                x_coor = valid_point.x\n",
    "                y_coor = valid_point.y\n",
    "                coord_list = [(x_coor, y_coor)]\n",
    "                # Sample Raster Values\n",
    "                sampled_raster = np.array([arr[0] for arr in src.sample(coord_list)])\n",
    "            return sampled_raster"
   ]
  }
 ],
 "metadata": {
  "kernelspec": {
   "display_name": "hh2_env",
   "language": "python",
   "name": "python3"
  },
  "language_info": {
   "codemirror_mode": {
    "name": "ipython",
    "version": 3
   },
   "file_extension": ".py",
   "mimetype": "text/x-python",
   "name": "python",
   "nbconvert_exporter": "python",
   "pygments_lexer": "ipython3",
   "version": "3.12.9"
  }
 },
 "nbformat": 4,
 "nbformat_minor": 2
}
