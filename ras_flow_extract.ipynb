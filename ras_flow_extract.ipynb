{
 "cells": [
  {
   "cell_type": "code",
   "execution_count": 40,
   "metadata": {},
   "outputs": [],
   "source": [
    "import pandas as pd\n",
    "import numpy as np\n",
    "import h5py\n",
    "import os\n",
    "\n",
    "from glob import glob"
   ]
  },
  {
   "cell_type": "code",
   "execution_count": 41,
   "metadata": {},
   "outputs": [],
   "source": [
    "# This return the maximum value in a given nd.array\n",
    "def get_max_list(a_list):\n",
    "    # Converts the array to a dataframe\n",
    "    df = pd.DataFrame(a_list)\n",
    "    max_values = df.max()\n",
    "    return max_values"
   ]
  },
  {
   "cell_type": "code",
   "execution_count": 42,
   "metadata": {},
   "outputs": [],
   "source": [
    "# Get the RAS Folder and get all .p##.hdf files\n",
    "ras_folder = r\"C:\\Users\\richmond\\AMH Philippines, Inc\\PP23.307 Rockwell and Roll - My Documents\\Python\\amh_pyqgis\\flow_extraction\\RAS\"\n",
    "glob_key = os.path.join(ras_folder, \"*.p*.hdf\")\n",
    "ras_plan = glob(glob_key, recursive=True)"
   ]
  },
  {
   "cell_type": "code",
   "execution_count": 43,
   "metadata": {},
   "outputs": [],
   "source": [
    "def flow_extract(plan_file):\n",
    "    ras_hdf_file = plan_file\n",
    "\n",
    "    # Read the HDF5 File\n",
    "    f =  h5py.File(ras_hdf_file, 'r')\n",
    "\n",
    "    # Get the Plan ShortID - this represents\n",
    "    # the simulation or return period\n",
    "    short_id_path = '/Plan Data/Plan Information'\n",
    "    plan_id = f[short_id_path].attrs['Plan ShortID'].decode('utf-8')\n",
    "\n",
    "    # Get the names of the reference line\n",
    "    ref_name_path = r'/Geometry/Reference Lines/Attributes'\n",
    "    ref_names = np.array(f[ref_name_path])\n",
    "    ref_col_names = [x[0].decode('utf-8') for x in ref_names]\n",
    "\n",
    "    # Get the max discharge per reference lines\n",
    "    ref_line_path = r'/Results/Unsteady/Output/Output Blocks/DSS Hydrograph Output/Unsteady Time Series/Reference Lines'\n",
    "    ref_flow_array = f[ref_line_path]['Flow']\n",
    "    flow_max_values = np.max(ref_flow_array, axis=0)\n",
    "    ref_flow = flow_max_values.tolist()\n",
    "\n",
    "    # Get the Max Velocity per Reference Lines\n",
    "    ref_vel_array = f[ref_line_path]['Velocity']\n",
    "    vel_max_values = np.max(ref_vel_array, axis=0)\n",
    "    ref_velocity = vel_max_values.tolist()\n",
    "\n",
    "    # Compute the Max Flow Area\n",
    "    # Given by the Eq. Q = A * V; A = Q / V\n",
    "    ref_max_flow_area_array = np.divide(\n",
    "                                ref_flow_array,\n",
    "                                ref_vel_array,\n",
    "                                )\n",
    "    ref_max_flow_area = np.nanmax(ref_max_flow_area_array, axis=0).tolist()\n",
    "\n",
    "    # Get the Max WSE\n",
    "    ref_wse_array = f[ref_line_path]['Water Surface']\n",
    "    ref_wse = np.max(ref_wse_array, axis=0).tolist()\n",
    "\n",
    "    # Compute the EGL\n",
    "    # Given by the equation: EGL = WSE + V^2 / 2g (g=9.81 m/s^2)\n",
    "    g = 9.81 * 2 \n",
    "    vel_head = np.power(ref_vel_array, 2) / g\n",
    "    egl_array = ref_wse + vel_head\n",
    "    ref_egl = np.max(egl_array, axis=0).tolist()\n",
    "\n",
    "    # Create a DataFrame\n",
    "    df = pd.DataFrame({\n",
    "        'Reference Line' : ref_col_names,\n",
    "        'Plan ID' : plan_id, \n",
    "        'Discharge' : ref_flow,\n",
    "        'Velocity' : ref_velocity,\n",
    "        'Flow Area': ref_max_flow_area,\n",
    "        'WSE': ref_wse,\n",
    "        'EGL': ref_egl\n",
    "    })\n",
    "\n",
    "    f.close()\n",
    "\n",
    "    return df"
   ]
  },
  {
   "cell_type": "code",
   "execution_count": 44,
   "metadata": {},
   "outputs": [],
   "source": [
    "# Complete columns for report\n",
    "x= \"\"\"\n",
    "This is the complete column names:\n",
    "\n",
    "column = [\n",
    "    'Reference Line',\n",
    "    'Discharge',\n",
    "    'Flow Velocity',\n",
    "    'Flow Area',\n",
    "    'WSE',\n",
    "    'EGL',\n",
    "    'Thalweg',\n",
    "    'LOB',\n",
    "    'ROB',\n",
    "]\n",
    "\n",
    "\"\"\""
   ]
  },
  {
   "cell_type": "code",
   "execution_count": 45,
   "metadata": {},
   "outputs": [
    {
     "name": "stderr",
     "output_type": "stream",
     "text": [
      "C:\\Users\\richmond\\AppData\\Local\\Temp\\ipykernel_15952\\2483269163.py:30: RuntimeWarning: invalid value encountered in divide\n",
      "  ref_max_flow_area_array = np.divide(\n"
     ]
    }
   ],
   "source": [
    "dfs = []\n",
    "\n",
    "for plan in ras_plan:\n",
    "    df_extract = flow_extract(plan)\n",
    "    dfs.append(df_extract)\n",
    "\n",
    "df_concat = pd.concat(dfs, ignore_index=True).sort_values(by='Reference Line')"
   ]
  }
 ],
 "metadata": {
  "kernelspec": {
   "display_name": "hh2_env",
   "language": "python",
   "name": "python3"
  },
  "language_info": {
   "codemirror_mode": {
    "name": "ipython",
    "version": 3
   },
   "file_extension": ".py",
   "mimetype": "text/x-python",
   "name": "python",
   "nbconvert_exporter": "python",
   "pygments_lexer": "ipython3",
   "version": "3.11.11"
  }
 },
 "nbformat": 4,
 "nbformat_minor": 2
}
