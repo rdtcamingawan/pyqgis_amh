{
 "cells": [
  {
   "cell_type": "code",
   "execution_count": 134,
   "metadata": {},
   "outputs": [],
   "source": [
    "import pandas as pd\n",
    "import numpy as np\n",
    "import h5py"
   ]
  },
  {
   "cell_type": "code",
   "execution_count": 135,
   "metadata": {},
   "outputs": [],
   "source": [
    "# This return the maximum value in a given nd.array\n",
    "def get_max_list(a_list):\n",
    "    # Converts the array to a dataframe\n",
    "    df = pd.DataFrame(a_list)\n",
    "    max_values = df.max()\n",
    "    return max_values"
   ]
  },
  {
   "cell_type": "code",
   "execution_count": 136,
   "metadata": {},
   "outputs": [],
   "source": [
    "# Read the RAS HDF File Folder path\n",
    "ras_hdf_file = r\"C:\\Users\\richmond\\AMH Philippines, Inc\\PP23.307 Rockwell and Roll - My Documents\\Python\\amh_pyqgis\\flow_extraction\\RAS\\lagnas.p01.hdf\""
   ]
  },
  {
   "cell_type": "code",
   "execution_count": 137,
   "metadata": {},
   "outputs": [
    {
     "data": {
      "text/plain": [
       "\"\\nThis is the complete column names:\\n\\ncolumn = [\\n    'Reference Line',\\n    'Discharge',\\n    'Flow Velocity',\\n    'Flow Area',\\n    'WSE',\\n    'EGL',\\n    'Thalweg',\\n    'LOB',\\n    'ROB',\\n]\\n\\n\""
      ]
     },
     "execution_count": 137,
     "metadata": {},
     "output_type": "execute_result"
    }
   ],
   "source": [
    "# DataFrame Column Name\n",
    "column = [\n",
    "    'Reference Line',\n",
    "    'Discharge',\n",
    "    'Flow Velocity',\n",
    "    'Flow Area',\n",
    "    'WSE',\n",
    "    'EGL'\n",
    "]\n",
    "\n",
    "\n",
    "\"\"\"\n",
    "This is the complete column names:\n",
    "\n",
    "column = [\n",
    "    'Reference Line',\n",
    "    'Discharge',\n",
    "    'Flow Velocity',\n",
    "    'Flow Area',\n",
    "    'WSE',\n",
    "    'EGL',\n",
    "    'Thalweg',\n",
    "    'LOB',\n",
    "    'ROB',\n",
    "]\n",
    "\n",
    "\"\"\""
   ]
  },
  {
   "cell_type": "code",
   "execution_count": 138,
   "metadata": {},
   "outputs": [],
   "source": [
    "# Read the HDF5 File\n",
    "f =  h5py.File(ras_hdf_file, 'r')"
   ]
  },
  {
   "cell_type": "code",
   "execution_count": 139,
   "metadata": {},
   "outputs": [],
   "source": [
    "# Get the names fo the reference line names\n",
    "ref_name_path = r'/Geometry/Reference Lines/Attributes'\n",
    "ref_names = np.array(f[ref_name_path])\n",
    "ref_col_names = [x[0].decode('utf-8') for x in ref_names]"
   ]
  },
  {
   "cell_type": "code",
   "execution_count": 140,
   "metadata": {},
   "outputs": [],
   "source": [
    "# Get the max discharge per reference lines\n",
    "ref_line_path = r'/Results/Unsteady/Output/Output Blocks/DSS Hydrograph Output/Unsteady Time Series/Reference Lines'\n",
    "ref_flow_array = f[ref_line_path]['Flow']\n",
    "flow_max_values = np.max(ref_flow_array, axis=0)\n",
    "ref_flow = flow_max_values.tolist()"
   ]
  },
  {
   "cell_type": "code",
   "execution_count": 141,
   "metadata": {},
   "outputs": [],
   "source": [
    "# Get the Max Velocity per Reference Lines\n",
    "ref_vel_array = f[ref_line_path]['Velocity']\n",
    "vel_max_values = np.max(ref_vel_array, axis=0)\n",
    "ref_velocity = vel_max_values.tolist()"
   ]
  },
  {
   "cell_type": "code",
   "execution_count": 142,
   "metadata": {},
   "outputs": [
    {
     "name": "stderr",
     "output_type": "stream",
     "text": [
      "C:\\Users\\richmond\\AppData\\Local\\Temp\\ipykernel_21072\\2517206911.py:3: RuntimeWarning: invalid value encountered in divide\n",
      "  ref_max_flow_area_array = np.divide(\n"
     ]
    }
   ],
   "source": [
    "# Compute the Max Flow Area\n",
    "# Given by the Eq. Q = A * V; A = Q / V\n",
    "ref_max_flow_area_array = np.divide(\n",
    "                            ref_flow_array,\n",
    "                            ref_vel_array,\n",
    "                            )\n",
    "ref_max_flow_area = np.nanmax(ref_max_flow_area_array, axis=0).tolist()"
   ]
  },
  {
   "cell_type": "code",
   "execution_count": 143,
   "metadata": {},
   "outputs": [],
   "source": [
    "# Get the Max WSE\n",
    "ref_wse_array = f[ref_line_path]['Water Surface']\n",
    "ref_wse = np.max(ref_wse_array, axis=0).tolist()"
   ]
  },
  {
   "cell_type": "code",
   "execution_count": 144,
   "metadata": {},
   "outputs": [],
   "source": [
    "# Compute the EGL\n",
    "# Given by the equation: EGL = WSE + V^2 / 2g (g=9.81 m/s^2)\n",
    "g = 9.81 * 2 \n",
    "vel_head = np.power(ref_vel_array, 2) / g\n",
    "egl_array = ref_wse + vel_head\n",
    "ref_egl = np.max(egl_array, axis=0).tolist()"
   ]
  },
  {
   "cell_type": "code",
   "execution_count": 145,
   "metadata": {},
   "outputs": [],
   "source": [
    "# Create a DataFrame\n",
    "df = pd.DataFrame({\n",
    "    'Reference Line' : ref_col_names,\n",
    "    'Discharge' : ref_flow,\n",
    "    'Flow Velocity' : ref_velocity,\n",
    "    'Flow Area': ref_max_flow_area,\n",
    "    'WSE': ref_wse,\n",
    "    'EGL': ref_egl\n",
    "})"
   ]
  },
  {
   "cell_type": "code",
   "execution_count": 146,
   "metadata": {},
   "outputs": [],
   "source": [
    "f.close()"
   ]
  }
 ],
 "metadata": {
  "kernelspec": {
   "display_name": "hh2_env",
   "language": "python",
   "name": "python3"
  },
  "language_info": {
   "codemirror_mode": {
    "name": "ipython",
    "version": 3
   },
   "file_extension": ".py",
   "mimetype": "text/x-python",
   "name": "python",
   "nbconvert_exporter": "python",
   "pygments_lexer": "ipython3",
   "version": "3.11.11"
  }
 },
 "nbformat": 4,
 "nbformat_minor": 2
}
